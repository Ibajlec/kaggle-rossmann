{
 "cells": [
  {
   "cell_type": "code",
   "execution_count": 1,
   "metadata": {},
   "outputs": [],
   "source": [
    "import pandas as pd\n",
    "import numpy as np\n",
    "import datetime\n",
    "from pandas_summary import DataFrameSummary"
   ]
  },
  {
   "cell_type": "code",
   "execution_count": 2,
   "metadata": {},
   "outputs": [],
   "source": [
    "df = pd.read_feather('train_normalized_data.fth')\n",
    "df_test = pd.read_feather('test_normalized_data.fth')"
   ]
  },
  {
   "cell_type": "code",
   "execution_count": 3,
   "metadata": {},
   "outputs": [],
   "source": [
    "df_train = df[df.Date < datetime.datetime(2015, 7, 1)]  \n",
    "df_val = df[df.Date >= datetime.datetime(2015, 7, 1)]"
   ]
  },
  {
   "cell_type": "markdown",
   "metadata": {},
   "source": [
    "$$\n",
    "\\textrm{RMSE} = \\sqrt{\\frac{1}{n} \\sum_{i=1}^{n} \\left(\\frac{\\hat{y}_i - y_i}{y_i}\\right)^2}\n",
    "$$"
   ]
  },
  {
   "cell_type": "code",
   "execution_count": 4,
   "metadata": {},
   "outputs": [],
   "source": [
    "def get_metric(df, sales_):\n",
    "    return (((df['Sales'] - sales_)/df['Sales'])**2).sum()/len(df)"
   ]
  },
  {
   "cell_type": "code",
   "execution_count": 5,
   "metadata": {},
   "outputs": [
    {
     "name": "stdout",
     "output_type": "stream",
     "text": [
      "Train:\n",
      "0.4059077987085825\n",
      "Val:\n"
     ]
    },
    {
     "data": {
      "text/plain": [
       "0.30213969475255925"
      ]
     },
     "execution_count": 5,
     "metadata": {},
     "output_type": "execute_result"
    }
   ],
   "source": [
    "print('Train:')\n",
    "print(get_metric(df_train, df_train['Sales'].mean()))\n",
    "print('Val:')\n",
    "get_metric(df_val, df_train['Sales'].mean())"
   ]
  },
  {
   "cell_type": "code",
   "execution_count": 6,
   "metadata": {},
   "outputs": [],
   "source": [
    "stores_mean = {}\n",
    "stores_mean_list = []\n",
    "for store, g_df in df_train.groupby('Store'):\n",
    "    store_m =  g_df[g_df['Sales'] > 0]['Sales'].mean()\n",
    "    stores_mean[store] = store_m\n",
    "    stores_mean_list.append(store_m)"
   ]
  },
  {
   "cell_type": "code",
   "execution_count": 7,
   "metadata": {},
   "outputs": [
    {
     "name": "stdout",
     "output_type": "stream",
     "text": [
      "Train:\n",
      "0.15688835922756375\n",
      "Val:\n",
      "0.0943562401279468\n"
     ]
    }
   ],
   "source": [
    "print('Train:')\n",
    "print(get_metric(df_train, df_train['Store'].apply(stores_mean.get)))\n",
    "print('Val:')\n",
    "print(get_metric(df_val, df_val['Store'].apply(stores_mean.get)))"
   ]
  },
  {
   "cell_type": "code",
   "execution_count": 8,
   "metadata": {},
   "outputs": [],
   "source": [
    "from tensorflow.keras.models import Model\n",
    "from tensorflow.keras.callbacks import ModelCheckpoint\n",
    "from tensorflow.keras.optimizers import Adam\n",
    "from tensorflow.keras.layers import Embedding, Input, Flatten, Concatenate, Dense, BatchNormalization, Activation, LeakyReLU, Dropout\n",
    "from tensorflow.keras.regularizers import l2\n",
    "from tensorflow.keras import optimizers\n",
    "from tensorflow.keras import backend as K\n",
    "from tensorflow.keras.utils import to_categorical"
   ]
  },
  {
   "cell_type": "code",
   "execution_count": 9,
   "metadata": {},
   "outputs": [],
   "source": [
    "def rmspe(y_true, y_pred):\n",
    "    return K.mean(K.square((y_true - y_pred)/y_true))"
   ]
  },
  {
   "cell_type": "code",
   "execution_count": 10,
   "metadata": {},
   "outputs": [],
   "source": [
    "X_train = df_train['Store']\n",
    "y_train = df_train['Sales']\n",
    "X_train_cat = to_categorical(X_train)\n"
   ]
  },
  {
   "cell_type": "code",
   "execution_count": 11,
   "metadata": {},
   "outputs": [
    {
     "data": {
      "text/plain": [
       "((814150, 1115), 1114, 0)"
      ]
     },
     "execution_count": 11,
     "metadata": {},
     "output_type": "execute_result"
    }
   ],
   "source": [
    "X_train_cat.shape, X_train.max(),  X_train.min()"
   ]
  },
  {
   "cell_type": "code",
   "execution_count": 12,
   "metadata": {},
   "outputs": [
    {
     "name": "stdout",
     "output_type": "stream",
     "text": [
      "Model: \"model\"\n",
      "_________________________________________________________________\n",
      "Layer (type)                 Output Shape              Param #   \n",
      "=================================================================\n",
      "store_input (InputLayer)     [(None, 1115)]            0         \n",
      "_________________________________________________________________\n",
      "Output (Dense)               (None, 1)                 1116      \n",
      "=================================================================\n",
      "Total params: 1,116\n",
      "Trainable params: 1,116\n",
      "Non-trainable params: 0\n",
      "_________________________________________________________________\n"
     ]
    }
   ],
   "source": [
    "store_input = Input(shape=(X_train_cat.shape[1],), name=\"store_input\")\n",
    "out = Dense(1, name=\"Output\")(store_input)\n",
    "model = Model(store_input, out)\n",
    "model.compile(optimizers.Adam(lr=0.01), loss='mse', metrics=[rmspe, 'mse'])\n",
    "model.summary()"
   ]
  },
  {
   "cell_type": "code",
   "execution_count": 13,
   "metadata": {},
   "outputs": [],
   "source": [
    "weights = model.get_weights()"
   ]
  },
  {
   "cell_type": "code",
   "execution_count": 14,
   "metadata": {},
   "outputs": [],
   "source": [
    "weights[0] = np.array(np.array(stores_mean_list).reshape(-1, 1))"
   ]
  },
  {
   "cell_type": "code",
   "execution_count": 15,
   "metadata": {},
   "outputs": [],
   "source": [
    "model.set_weights(weights)"
   ]
  },
  {
   "cell_type": "code",
   "execution_count": 16,
   "metadata": {},
   "outputs": [
    {
     "name": "stdout",
     "output_type": "stream",
     "text": [
      "25443/25443 [==============================] - 18s 704us/step - loss: 3864611.0000 - rmspe: 0.1569 - mse: 3864611.0000\n"
     ]
    },
    {
     "data": {
      "text/plain": [
       "[3864611.0, 0.15692844986915588, 3864611.0]"
      ]
     },
     "execution_count": 16,
     "metadata": {},
     "output_type": "execute_result"
    }
   ],
   "source": [
    "model.evaluate(X_train_cat, y_train)"
   ]
  },
  {
   "cell_type": "code",
   "execution_count": null,
   "metadata": {},
   "outputs": [
    {
     "name": "stdout",
     "output_type": "stream",
     "text": [
      "Epoch 1/5\n",
      "25443/25443 [==============================] - 22s 850us/step - loss: 3864724.5000 - rmspe: 0.1569 - mse: 3864724.5000\n",
      "Epoch 2/5\n",
      "19369/25443 [=====================>........] - ETA: 5s - loss: 3865228.2500 - rmspe: 0.1669 - mse: 3865228.2500"
     ]
    }
   ],
   "source": [
    "model.fit(X_train_cat, y_train, epochs=5)"
   ]
  },
  {
   "cell_type": "code",
   "execution_count": 63,
   "metadata": {},
   "outputs": [],
   "source": [
    "store_input = Input(shape=(1,), name=\"store_input\")\n",
    "out = Dense(1, name=\"Output\")(store_input)\n",
    "model = Model(store_input, out)\n",
    "model.compile(optimizers.Adam(lr=0.001), loss='mse', metrics=[rmspe, 'mse'])"
   ]
  },
  {
   "cell_type": "code",
   "execution_count": 64,
   "metadata": {},
   "outputs": [
    {
     "name": "stdout",
     "output_type": "stream",
     "text": [
      "Epoch 1/10\n",
      "25443/25443 [==============================] - 21s 814us/step - loss: 24653102.0000 - rmspe: 0.5403 - mse: 24653102.0000\n",
      "Epoch 2/10\n",
      "25443/25443 [==============================] - 21s 809us/step - loss: 21482116.0000 - rmspe: 0.5635 - mse: 21482116.0000\n",
      "Epoch 3/10\n",
      "25443/25443 [==============================] - 21s 808us/step - loss: 21402258.0000 - rmspe: 0.5615 - mse: 21402258.0000\n",
      "Epoch 4/10\n",
      "25443/25443 [==============================] - 21s 810us/step - loss: 21322946.0000 - rmspe: 0.5593 - mse: 21322946.0000\n",
      "Epoch 5/10\n",
      "25443/25443 [==============================] - 21s 811us/step - loss: 21243850.0000 - rmspe: 0.5572 - mse: 21243850.0000\n",
      "Epoch 6/10\n",
      "25443/25443 [==============================] - 21s 809us/step - loss: 21164960.0000 - rmspe: 0.5557 - mse: 21164960.0000\n",
      "Epoch 7/10\n",
      "25443/25443 [==============================] - 21s 813us/step - loss: 21086476.0000 - rmspe: 0.5537 - mse: 21086476.0000\n",
      "Epoch 8/10\n",
      "25443/25443 [==============================] - 21s 809us/step - loss: 21008222.0000 - rmspe: 0.5518 - mse: 21008222.0000\n",
      "Epoch 9/10\n",
      "25443/25443 [==============================] - 21s 808us/step - loss: 20930066.0000 - rmspe: 0.5501 - mse: 20930066.0000\n",
      "Epoch 10/10\n",
      "25443/25443 [==============================] - 21s 812us/step - loss: 20852510.0000 - rmspe: 0.5477 - mse: 20852510.0000\n"
     ]
    },
    {
     "data": {
      "text/plain": [
       "<tensorflow.python.keras.callbacks.History at 0x7f26f021d630>"
      ]
     },
     "execution_count": 64,
     "metadata": {},
     "output_type": "execute_result"
    }
   ],
   "source": [
    "model.fit(X_train, y_train, epochs=10)"
   ]
  },
  {
   "cell_type": "code",
   "execution_count": 15,
   "metadata": {},
   "outputs": [],
   "source": [
    "X_train_cat = to_categorical(X_train)"
   ]
  },
  {
   "cell_type": "code",
   "execution_count": 16,
   "metadata": {},
   "outputs": [
    {
     "data": {
      "text/plain": [
       "(814150, 1115)"
      ]
     },
     "execution_count": 16,
     "metadata": {},
     "output_type": "execute_result"
    }
   ],
   "source": [
    "X_train_cat.shape"
   ]
  },
  {
   "cell_type": "code",
   "execution_count": 23,
   "metadata": {},
   "outputs": [
    {
     "name": "stdout",
     "output_type": "stream",
     "text": [
      "Model: \"model_2\"\n",
      "_________________________________________________________________\n",
      "Layer (type)                 Output Shape              Param #   \n",
      "=================================================================\n",
      "store_input (InputLayer)     [(None, 1115)]            0         \n",
      "_________________________________________________________________\n",
      "Output (Dense)               (None, 1)                 1116      \n",
      "=================================================================\n",
      "Total params: 1,116\n",
      "Trainable params: 1,116\n",
      "Non-trainable params: 0\n",
      "_________________________________________________________________\n"
     ]
    }
   ],
   "source": []
  },
  {
   "cell_type": "code",
   "execution_count": null,
   "metadata": {},
   "outputs": [],
   "source": [
    "model.fit(X_train_cat, y_train, epochs=10)"
   ]
  },
  {
   "cell_type": "code",
   "execution_count": null,
   "metadata": {},
   "outputs": [],
   "source": []
  }
 ],
 "metadata": {
  "kernelspec": {
   "display_name": "Python [conda env:tensorflow2] *",
   "language": "python",
   "name": "conda-env-tensorflow2-py"
  },
  "language_info": {
   "codemirror_mode": {
    "name": "ipython",
    "version": 3
   },
   "file_extension": ".py",
   "mimetype": "text/x-python",
   "name": "python",
   "nbconvert_exporter": "python",
   "pygments_lexer": "ipython3",
   "version": "3.6.10"
  }
 },
 "nbformat": 4,
 "nbformat_minor": 4
}

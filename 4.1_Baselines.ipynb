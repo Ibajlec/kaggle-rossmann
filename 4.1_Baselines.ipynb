{
 "cells": [
  {
   "cell_type": "code",
   "execution_count": 1,
   "metadata": {},
   "outputs": [],
   "source": [
    "import pandas as pd\n",
    "import numpy as np\n",
    "import datetime\n",
    "from pandas_summary import DataFrameSummary"
   ]
  },
  {
   "cell_type": "code",
   "execution_count": 2,
   "metadata": {},
   "outputs": [],
   "source": [
    "df = pd.read_feather('train_normalized_data.fth')\n",
    "df_test = pd.read_feather('test_normalized_data.fth')"
   ]
  },
  {
   "cell_type": "code",
   "execution_count": 3,
   "metadata": {},
   "outputs": [],
   "source": [
    "df_train = df[df.Date < datetime.datetime(2015, 7, 1)]  \n",
    "df_val = df[df.Date >= datetime.datetime(2015, 7, 1)]"
   ]
  },
  {
   "cell_type": "code",
   "execution_count": 4,
   "metadata": {},
   "outputs": [],
   "source": [
    "final_train = False"
   ]
  },
  {
   "cell_type": "code",
   "execution_count": 5,
   "metadata": {},
   "outputs": [],
   "source": [
    "def get_metric(sales, sales_):\n",
    "    return (((sales - sales_)/sales)**2).sum()/len(sales)"
   ]
  },
  {
   "cell_type": "markdown",
   "metadata": {},
   "source": [
    "$$\n",
    "\\textrm{RMSE} = \\sqrt{\\frac{1}{n} \\sum_{i=1}^{n} \\left(\\frac{\\hat{y}_i - y_i}{y_i}\\right)^2}\n",
    "$$"
   ]
  },
  {
   "cell_type": "code",
   "execution_count": 42,
   "metadata": {},
   "outputs": [
    {
     "data": {
      "text/plain": [
       "Index(['index', 'Store', 'DayOfWeek', 'Date', 'Sales', 'Customers', 'Open',\n",
       "       'Promo', 'StateHoliday', 'SchoolHoliday', 'Year', 'Month', 'Week',\n",
       "       'Day', 'StoreType', 'Assortment', 'CompetitionDistance',\n",
       "       'CompetitionOpenSinceMonth', 'CompetitionOpenSinceYear', 'Promo2',\n",
       "       'Promo2SinceWeek', 'Promo2SinceYear', 'PromoInterval',\n",
       "       'CompetitionOpenSince', 'Promo2Since', 'State', 'file', 'week', 'trend',\n",
       "       'Date_y', 'Month_y', 'Day_y', 'file_DE', 'week_DE', 'trend_DE',\n",
       "       'Date_DE', 'State_DE', 'Month_DE', 'Day_DE', 'file_y',\n",
       "       'Max_TemperatureC', 'Mean_TemperatureC', 'Min_TemperatureC',\n",
       "       'Dew_PointC', 'MeanDew_PointC', 'Min_DewpointC', 'Max_Humidity',\n",
       "       'Mean_Humidity', 'Min_Humidity', 'Max_Sea_Level_PressurehPa',\n",
       "       'Mean_Sea_Level_PressurehPa', 'Min_Sea_Level_PressurehPa',\n",
       "       'Max_VisibilityKm', 'Mean_VisibilityKm', 'Min_VisibilitykM',\n",
       "       'Max_Wind_SpeedKm_h', 'Mean_Wind_SpeedKm_h', 'Max_Gust_SpeedKm_h',\n",
       "       'Precipitationmm', 'CloudCover', 'Events', 'WindDirDegrees',\n",
       "       'StateName', 'Year_y', 'Week_y', 'CompetitionDaysOpen',\n",
       "       'CompetitionMonthsOpen', 'Promo2Days', 'Promo2Weeks',\n",
       "       'StateHoliday_bool', 'AfterSchoolHoliday', 'BeforeSchoolHoliday',\n",
       "       'AfterStateHoliday_bool', 'BeforeStateHoliday_bool', 'AfterPromo',\n",
       "       'BeforePromo', 'SchoolHoliday_bw', 'StateHoliday_bool_bw', 'Promo_bw',\n",
       "       'SchoolHoliday_fw', 'StateHoliday_bool_fw', 'Promo_fw', 'Sales_norm'],\n",
       "      dtype='object')"
      ]
     },
     "execution_count": 42,
     "metadata": {},
     "output_type": "execute_result"
    }
   ],
   "source": [
    "df_train.columns"
   ]
  },
  {
   "cell_type": "code",
   "execution_count": 71,
   "metadata": {},
   "outputs": [
    {
     "data": {
      "text/plain": [
       "30188     20\n",
       "30189     20\n",
       "30190      0\n",
       "30191     20\n",
       "30192     20\n",
       "          ..\n",
       "844333    10\n",
       "844334    10\n",
       "844335    10\n",
       "844336     1\n",
       "844337    10\n",
       "Name: Events, Length: 814150, dtype: int64"
      ]
     },
     "execution_count": 71,
     "metadata": {},
     "output_type": "execute_result"
    }
   ],
   "source": [
    "df_train['Events']"
   ]
  },
  {
   "cell_type": "code",
   "execution_count": 6,
   "metadata": {},
   "outputs": [],
   "source": [
    "max_sales = df_train['Sales'].max()\n",
    "df.loc[:, 'Sales_norm'] = df['Sales'].values/max_sales"
   ]
  },
  {
   "cell_type": "code",
   "execution_count": 7,
   "metadata": {},
   "outputs": [
    {
     "name": "stderr",
     "output_type": "stream",
     "text": [
      "/home/usuario/anaconda3/envs/tensorflow2/lib/python3.6/site-packages/pandas/core/indexing.py:845: SettingWithCopyWarning: \n",
      "A value is trying to be set on a copy of a slice from a DataFrame.\n",
      "Try using .loc[row_indexer,col_indexer] = value instead\n",
      "\n",
      "See the caveats in the documentation: https://pandas.pydata.org/pandas-docs/stable/user_guide/indexing.html#returning-a-view-versus-a-copy\n",
      "  self.obj[key] = _infer_fill_value(value)\n",
      "/home/usuario/anaconda3/envs/tensorflow2/lib/python3.6/site-packages/pandas/core/indexing.py:966: SettingWithCopyWarning: \n",
      "A value is trying to be set on a copy of a slice from a DataFrame.\n",
      "Try using .loc[row_indexer,col_indexer] = value instead\n",
      "\n",
      "See the caveats in the documentation: https://pandas.pydata.org/pandas-docs/stable/user_guide/indexing.html#returning-a-view-versus-a-copy\n",
      "  self.obj[item] = s\n"
     ]
    }
   ],
   "source": [
    "df_train.loc[:, 'Sales_norm'] = df_train['Sales'].values/max_sales\n",
    "df_val.loc[:, 'Sales_norm'] = df_val['Sales'].values/max_sales"
   ]
  },
  {
   "cell_type": "code",
   "execution_count": 8,
   "metadata": {},
   "outputs": [
    {
     "name": "stdout",
     "output_type": "stream",
     "text": [
      "Train:\n",
      "0.4059077987085825\n",
      "Val:\n"
     ]
    },
    {
     "data": {
      "text/plain": [
       "0.30213969475255925"
      ]
     },
     "execution_count": 8,
     "metadata": {},
     "output_type": "execute_result"
    }
   ],
   "source": [
    "print('Train:')\n",
    "print(get_metric(df_train['Sales_norm'], df_train['Sales_norm'].mean()))\n",
    "print('Val:')\n",
    "get_metric(df_val['Sales_norm'], df_train['Sales_norm'].mean())"
   ]
  },
  {
   "cell_type": "code",
   "execution_count": 46,
   "metadata": {},
   "outputs": [],
   "source": [
    "def get_mean_by_column(column, sales_str):\n",
    "    stores_mean = {}\n",
    "    stores_mean_list = []\n",
    "    for store, g_df in df_train.groupby(column):\n",
    "        store_m =  g_df[g_df[sales_str] > 0][sales_str].mean()\n",
    "        stores_mean[store] = store_m\n",
    "        stores_mean_list.append(store_m)\n",
    "    print('Train:', get_metric(df_train[sales_str], df_train[column].apply(stores_mean.get)))\n",
    "    print('Val:', get_metric(df_val[sales_str], df_val[column].apply(stores_mean.get)))\n",
    "    return stores_mean, stores_mean_list"
   ]
  },
  {
   "cell_type": "code",
   "execution_count": 47,
   "metadata": {},
   "outputs": [
    {
     "name": "stdout",
     "output_type": "stream",
     "text": [
      "Train: 0.15688835922756375\n",
      "Val: 0.09435624012794681\n"
     ]
    }
   ],
   "source": [
    "_ = get_mean_by_column('Store', 'Sales_norm')"
   ]
  },
  {
   "cell_type": "code",
   "execution_count": 48,
   "metadata": {},
   "outputs": [
    {
     "name": "stdout",
     "output_type": "stream",
     "text": [
      "Train: 0.36106577837306253\n",
      "Val: 0.2561769086693393\n"
     ]
    }
   ],
   "source": [
    "_ = get_mean_by_column('DayOfWeek', 'Sales_norm')"
   ]
  },
  {
   "cell_type": "code",
   "execution_count": 50,
   "metadata": {},
   "outputs": [
    {
     "name": "stdout",
     "output_type": "stream",
     "text": [
      "Train: 0.4002726878411708\n",
      "Val: 0.2964421798587632\n"
     ]
    }
   ],
   "source": [
    "_ = get_mean_by_column('Month', 'Sales_norm')"
   ]
  },
  {
   "cell_type": "code",
   "execution_count": 51,
   "metadata": {},
   "outputs": [
    {
     "name": "stdout",
     "output_type": "stream",
     "text": [
      "Train: 0.3693486112676764\n",
      "Val: 0.2674408728623329\n"
     ]
    }
   ],
   "source": [
    "_ = get_mean_by_column('Week', 'Sales_norm')"
   ]
  },
  {
   "cell_type": "code",
   "execution_count": 80,
   "metadata": {},
   "outputs": [
    {
     "name": "stdout",
     "output_type": "stream",
     "text": [
      "Train: 0.4070020265579082\n",
      "Val: 0.30186165673507453\n"
     ]
    }
   ],
   "source": [
    "_ = get_mean_by_column('StateHoliday', 'Sales_norm')"
   ]
  },
  {
   "cell_type": "code",
   "execution_count": 81,
   "metadata": {},
   "outputs": [
    {
     "name": "stdout",
     "output_type": "stream",
     "text": [
      "Train: 0.4034957752536508\n",
      "Val: 0.3050227258443403\n"
     ]
    }
   ],
   "source": [
    "_ = get_mean_by_column('SchoolHoliday', 'Sales_norm')"
   ]
  },
  {
   "cell_type": "code",
   "execution_count": 12,
   "metadata": {},
   "outputs": [],
   "source": [
    "from tensorflow.keras.models import Model\n",
    "from tensorflow.keras.callbacks import ModelCheckpoint\n",
    "from tensorflow.keras.optimizers import Adam\n",
    "from tensorflow.keras.layers import Embedding, Input, Flatten, Concatenate, Dense, BatchNormalization, Activation, LeakyReLU, Dropout\n",
    "from tensorflow.keras.regularizers import l2\n",
    "from tensorflow.keras import optimizers\n",
    "from tensorflow.keras import backend as K\n",
    "from tensorflow.keras.utils import to_categorical"
   ]
  },
  {
   "cell_type": "code",
   "execution_count": 13,
   "metadata": {},
   "outputs": [],
   "source": [
    "def rmspe(y_true, y_pred):\n",
    "    return K.mean(K.square((y_true - y_pred)/y_true))"
   ]
  },
  {
   "cell_type": "code",
   "execution_count": null,
   "metadata": {},
   "outputs": [],
   "source": []
  },
  {
   "cell_type": "code",
   "execution_count": 63,
   "metadata": {},
   "outputs": [],
   "source": [
    "embed_outs_dict = {'Store': 50, 'DayOfWeek': 2, 'Week': 10, 'Month': 4}\n",
    "X_columns = list(embed_outs_dict.keys())\n",
    "if final_train:\n",
    "    X_train = np.hsplit(df[X_columns].values, len(X_columns))\n",
    "    y_train = df['Sales_norm']\n",
    "else:\n",
    "    X_train = np.hsplit(df_train[X_columns].values, len(X_columns))\n",
    "    y_train = df_train['Sales_norm']\n",
    "    \n",
    "X_val = np.hsplit(df_val[X_columns].values, len(X_columns))\n",
    "X_test = np.hsplit(df_test[X_columns].values, len(X_columns))\n",
    "\n",
    "y_val = df_val['Sales_norm']"
   ]
  },
  {
   "cell_type": "code",
   "execution_count": 64,
   "metadata": {},
   "outputs": [],
   "source": [
    "#X_train.shape, X_val.shape, len(np.unique(X_train))"
   ]
  },
  {
   "cell_type": "code",
   "execution_count": 82,
   "metadata": {},
   "outputs": [
    {
     "name": "stdout",
     "output_type": "stream",
     "text": [
      "Model: \"model_3\"\n",
      "__________________________________________________________________________________________________\n",
      "Layer (type)                    Output Shape         Param #     Connected to                     \n",
      "==================================================================================================\n",
      "Store_input (InputLayer)        [(None, 1)]          0                                            \n",
      "__________________________________________________________________________________________________\n",
      "DayOfWeek_input (InputLayer)    [(None, 1)]          0                                            \n",
      "__________________________________________________________________________________________________\n",
      "Week_input (InputLayer)         [(None, 1)]          0                                            \n",
      "__________________________________________________________________________________________________\n",
      "Month_input (InputLayer)        [(None, 1)]          0                                            \n",
      "__________________________________________________________________________________________________\n",
      "Store_embedding (Embedding)     (None, 1, 50)        55750       Store_input[0][0]                \n",
      "__________________________________________________________________________________________________\n",
      "DayOfWeek_embedding (Embedding) (None, 1, 2)         14          DayOfWeek_input[0][0]            \n",
      "__________________________________________________________________________________________________\n",
      "Week_embedding (Embedding)      (None, 1, 10)        520         Week_input[0][0]                 \n",
      "__________________________________________________________________________________________________\n",
      "Month_embedding (Embedding)     (None, 1, 4)         48          Month_input[0][0]                \n",
      "__________________________________________________________________________________________________\n",
      "Store_flatten (Flatten)         (None, 50)           0           Store_embedding[0][0]            \n",
      "__________________________________________________________________________________________________\n",
      "DayOfWeek_flatten (Flatten)     (None, 2)            0           DayOfWeek_embedding[0][0]        \n",
      "__________________________________________________________________________________________________\n",
      "Week_flatten (Flatten)          (None, 10)           0           Week_embedding[0][0]             \n",
      "__________________________________________________________________________________________________\n",
      "Month_flatten (Flatten)         (None, 4)            0           Month_embedding[0][0]            \n",
      "__________________________________________________________________________________________________\n",
      "concatenate_3 (Concatenate)     (None, 66)           0           Store_flatten[0][0]              \n",
      "                                                                 DayOfWeek_flatten[0][0]          \n",
      "                                                                 Week_flatten[0][0]               \n",
      "                                                                 Month_flatten[0][0]              \n",
      "__________________________________________________________________________________________________\n",
      "dense_6 (Dense)                 (None, 20)           1340        concatenate_3[0][0]              \n",
      "__________________________________________________________________________________________________\n",
      "dense_7 (Dense)                 (None, 1)            21          dense_6[0][0]                    \n",
      "==================================================================================================\n",
      "Total params: 57,693\n",
      "Trainable params: 57,693\n",
      "Non-trainable params: 0\n",
      "__________________________________________________________________________________________________\n"
     ]
    }
   ],
   "source": [
    "embed_outs = []\n",
    "inputs = []\n",
    "hidden_units = 20\n",
    "activation = 'relu'\n",
    "for i, col in enumerate(X_columns):\n",
    "    inp = Input(shape=(1,), name=f\"{col}_input\")\n",
    "    inputs.append(inp)\n",
    "    embed_out = Embedding(len(np.unique(X_train[i])), embed_outs_dict[col], name=f\"{col}_embedding\", mask_zero=False)(inp)\n",
    "    out = Flatten(name=f\"{col}_flatten\")(embed_out)\n",
    "    embed_outs.append(out)\n",
    "if len(X_columns)>1:\n",
    "    concat_out = Concatenate()(embed_outs)\n",
    "    dense_out = Dense(hidden_units, activation=activation)(concat_out)\n",
    "else:\n",
    "    dense_out = Dense(hidden_units, activation=activation)(out)\n",
    "out = Dense(1)(dense_out)\n",
    "model = Model(inputs, out)\n",
    "model.compile(optimizers.Adam(lr=0.0001), loss='mse', metrics=[rmspe, 'mse'])\n",
    "model.summary()"
   ]
  },
  {
   "cell_type": "code",
   "execution_count": 83,
   "metadata": {},
   "outputs": [],
   "source": [
    "# weights = model.get_weights()\n",
    "# weights[0] = np.array(np.array(stores_mean_list).reshape(-1, 1))\n",
    "# model.set_weights(weights)"
   ]
  },
  {
   "cell_type": "code",
   "execution_count": 84,
   "metadata": {},
   "outputs": [
    {
     "name": "stdout",
     "output_type": "stream",
     "text": [
      "944/944 [==============================] - 1s 850us/step - loss: 0.0237 - rmspe: 0.6466 - mse: 0.0237\n"
     ]
    },
    {
     "data": {
      "text/plain": [
       "[0.02367066778242588, 0.6465886235237122, 0.02367066778242588]"
      ]
     },
     "execution_count": 84,
     "metadata": {},
     "output_type": "execute_result"
    }
   ],
   "source": [
    "model.evaluate(X_val, y_val)"
   ]
  },
  {
   "cell_type": "code",
   "execution_count": 85,
   "metadata": {},
   "outputs": [
    {
     "name": "stdout",
     "output_type": "stream",
     "text": [
      "Epoch 1/20\n",
      "25443/25443 [==============================] - 36s 1ms/step - loss: 0.0014 - rmspe: 0.0931 - mse: 0.0014 - val_loss: 7.3903e-04 - val_rmspe: 0.0270 - val_mse: 7.3903e-04\n",
      "Epoch 2/20\n",
      "25443/25443 [==============================] - 36s 1ms/step - loss: 9.6253e-04 - rmspe: 0.0704 - mse: 9.6253e-04 - val_loss: 7.0030e-04 - val_rmspe: 0.0248 - val_mse: 7.0030e-04\n",
      "Epoch 3/20\n",
      "25443/25443 [==============================] - 36s 1ms/step - loss: 9.1649e-04 - rmspe: 0.0685 - mse: 9.1649e-04 - val_loss: 7.0688e-04 - val_rmspe: 0.0237 - val_mse: 7.0688e-04\n",
      "Epoch 4/20\n",
      "25443/25443 [==============================] - 36s 1ms/step - loss: 8.9041e-04 - rmspe: 0.0677 - mse: 8.9041e-04 - val_loss: 6.8138e-04 - val_rmspe: 0.0233 - val_mse: 6.8138e-04\n",
      "Epoch 5/20\n",
      "25443/25443 [==============================] - 36s 1ms/step - loss: 8.7324e-04 - rmspe: 0.0664 - mse: 8.7324e-04 - val_loss: 6.6808e-04 - val_rmspe: 0.0229 - val_mse: 6.6808e-04\n",
      "Epoch 6/20\n",
      "25443/25443 [==============================] - 36s 1ms/step - loss: 8.6100e-04 - rmspe: 0.0657 - mse: 8.6100e-04 - val_loss: 6.6200e-04 - val_rmspe: 0.0226 - val_mse: 6.6200e-04\n",
      "Epoch 7/20\n",
      "25443/25443 [==============================] - 36s 1ms/step - loss: 8.5138e-04 - rmspe: 0.0642 - mse: 8.5138e-04 - val_loss: 6.6072e-04 - val_rmspe: 0.0231 - val_mse: 6.6072e-04\n",
      "Epoch 8/20\n",
      "25443/25443 [==============================] - 36s 1ms/step - loss: 8.4375e-04 - rmspe: 0.0632 - mse: 8.4375e-04 - val_loss: 6.4804e-04 - val_rmspe: 0.0224 - val_mse: 6.4804e-04\n",
      "Epoch 9/20\n",
      "25443/25443 [==============================] - 36s 1ms/step - loss: 8.3723e-04 - rmspe: 0.0624 - mse: 8.3723e-04 - val_loss: 6.3465e-04 - val_rmspe: 0.0216 - val_mse: 6.3465e-04\n",
      "Epoch 10/20\n",
      "25443/25443 [==============================] - 36s 1ms/step - loss: 8.3246e-04 - rmspe: 0.0624 - mse: 8.3246e-04 - val_loss: 6.4293e-04 - val_rmspe: 0.0225 - val_mse: 6.4293e-04\n",
      "Epoch 11/20\n",
      "25443/25443 [==============================] - 36s 1ms/step - loss: 8.2773e-04 - rmspe: 0.0627 - mse: 8.2773e-04 - val_loss: 6.3481e-04 - val_rmspe: 0.0222 - val_mse: 6.3481e-04\n",
      "Epoch 12/20\n",
      "25443/25443 [==============================] - 36s 1ms/step - loss: 8.2373e-04 - rmspe: 0.0634 - mse: 8.2373e-04 - val_loss: 6.2034e-04 - val_rmspe: 0.0217 - val_mse: 6.2034e-04\n",
      "Epoch 13/20\n",
      "25443/25443 [==============================] - 36s 1ms/step - loss: 8.1974e-04 - rmspe: 0.0608 - mse: 8.1974e-04 - val_loss: 6.3211e-04 - val_rmspe: 0.0219 - val_mse: 6.3211e-04\n",
      "Epoch 14/20\n",
      "25443/25443 [==============================] - 36s 1ms/step - loss: 8.1650e-04 - rmspe: 0.0629 - mse: 8.1650e-04 - val_loss: 6.1907e-04 - val_rmspe: 0.0215 - val_mse: 6.1907e-04\n",
      "Epoch 15/20\n",
      "25443/25443 [==============================] - 36s 1ms/step - loss: 8.1300e-04 - rmspe: 0.0608 - mse: 8.1300e-04 - val_loss: 6.5490e-04 - val_rmspe: 0.0215 - val_mse: 6.5490e-04\n",
      "Epoch 16/20\n",
      "25443/25443 [==============================] - 36s 1ms/step - loss: 8.0987e-04 - rmspe: 0.0618 - mse: 8.0987e-04 - val_loss: 6.2195e-04 - val_rmspe: 0.0210 - val_mse: 6.2195e-04\n",
      "Epoch 17/20\n",
      "25443/25443 [==============================] - 36s 1ms/step - loss: 8.0776e-04 - rmspe: 0.0619 - mse: 8.0776e-04 - val_loss: 6.3899e-04 - val_rmspe: 0.0215 - val_mse: 6.3899e-04\n",
      "Epoch 18/20\n",
      "25443/25443 [==============================] - 36s 1ms/step - loss: 8.0556e-04 - rmspe: 0.0612 - mse: 8.0556e-04 - val_loss: 6.3185e-04 - val_rmspe: 0.0223 - val_mse: 6.3185e-04\n",
      "Epoch 19/20\n",
      "25443/25443 [==============================] - 36s 1ms/step - loss: 8.0324e-04 - rmspe: 0.0606 - mse: 8.0324e-04 - val_loss: 6.3046e-04 - val_rmspe: 0.0218 - val_mse: 6.3046e-04\n",
      "Epoch 20/20\n",
      "25443/25443 [==============================] - 36s 1ms/step - loss: 8.0176e-04 - rmspe: 0.0613 - mse: 8.0176e-04 - val_loss: 6.2869e-04 - val_rmspe: 0.0215 - val_mse: 6.2869e-04\n"
     ]
    }
   ],
   "source": [
    "epochs = 20\n",
    "if final_train:\n",
    "    model.fit(X_train, y_train, epochs=epochs)\n",
    "else:\n",
    "    model.fit(X_train, y_train, epochs=epochs, validation_data=(X_val, y_val))"
   ]
  },
  {
   "cell_type": "code",
   "execution_count": 69,
   "metadata": {},
   "outputs": [
    {
     "name": "stdout",
     "output_type": "stream",
     "text": [
      "25443/25443 [==============================] - 22s 857us/step - loss: 8.3533e-04 - rmspe: 0.0616 - mse: 8.3533e-04\n"
     ]
    },
    {
     "data": {
      "text/plain": [
       "[0.0008353318553417921, 0.061621442437171936, 0.0008353318553417921]"
      ]
     },
     "execution_count": 69,
     "metadata": {},
     "output_type": "execute_result"
    }
   ],
   "source": [
    "model.evaluate(X_train, y_train)"
   ]
  },
  {
   "cell_type": "code",
   "execution_count": 70,
   "metadata": {},
   "outputs": [
    {
     "name": "stdout",
     "output_type": "stream",
     "text": [
      "944/944 [==============================] - 1s 897us/step - loss: 6.6760e-04 - rmspe: 0.0236 - mse: 6.6760e-04\n"
     ]
    },
    {
     "data": {
      "text/plain": [
       "[0.0006676019984297454, 0.02359057404100895, 0.0006676019984297454]"
      ]
     },
     "execution_count": 70,
     "metadata": {},
     "output_type": "execute_result"
    }
   ],
   "source": [
    "model.evaluate(X_val, y_val)"
   ]
  },
  {
   "cell_type": "raw",
   "metadata": {},
   "source": [
    "Store, DayOfWeek: 0.09212721139192581, 0.048540305346250534\n",
    "Store, DayOfWeek, Week: 0.0615, 0.02256705053150654\n",
    "Store, DayOfWeek, Week, Month: 0.061621, 0.02359057404100895"
   ]
  },
  {
   "cell_type": "code",
   "execution_count": 59,
   "metadata": {},
   "outputs": [
    {
     "data": {
      "text/plain": [
       "0.06149980579432537"
      ]
     },
     "execution_count": 59,
     "metadata": {},
     "output_type": "execute_result"
    }
   ],
   "source": [
    "train_predictions = model.predict(X_train)*max_sales\n",
    "get_metric(df_train['Sales'].values, train_predictions.reshape(-1))"
   ]
  },
  {
   "cell_type": "code",
   "execution_count": 60,
   "metadata": {},
   "outputs": [],
   "source": [
    "test_predictions = model.predict(X_test)*max_sales\n",
    "test_predictions[df_test['Open'] == 0] = 0"
   ]
  },
  {
   "cell_type": "code",
   "execution_count": 61,
   "metadata": {},
   "outputs": [],
   "source": [
    "sample_csv = pd.read_csv('dataset/rossmann/sample_submission.csv')\n",
    "sample_csv['Sales'] = test_predictions\n",
    "sample_csv.head()\n",
    "\n",
    "sample_csv.to_csv(f'submision_baseline_{\"-\".join(X_columns)}.csv', index=False)\n"
   ]
  },
  {
   "cell_type": "code",
   "execution_count": null,
   "metadata": {},
   "outputs": [],
   "source": []
  }
 ],
 "metadata": {
  "kernelspec": {
   "display_name": "Python [conda env:tensorflow2] *",
   "language": "python",
   "name": "conda-env-tensorflow2-py"
  },
  "language_info": {
   "codemirror_mode": {
    "name": "ipython",
    "version": 3
   },
   "file_extension": ".py",
   "mimetype": "text/x-python",
   "name": "python",
   "nbconvert_exporter": "python",
   "pygments_lexer": "ipython3",
   "version": "3.6.10"
  }
 },
 "nbformat": 4,
 "nbformat_minor": 4
}
